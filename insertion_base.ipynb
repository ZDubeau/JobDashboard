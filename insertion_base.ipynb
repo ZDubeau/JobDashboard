{
 "cells": [
  {
   "cell_type": "code",
   "execution_count": 6,
   "metadata": {},
   "outputs": [
    {
     "ename": "UniqueViolation",
     "evalue": "duplicate key value violates unique constraint \"region_pkey\"\nDETAIL:  Key (code_reg)=(084) already exists.\n",
     "output_type": "error",
     "traceback": [
      "\u001b[0;31m---------------------------------------------------------------------------\u001b[0m",
      "\u001b[0;31mUniqueViolation\u001b[0m                           Traceback (most recent call last)",
      "\u001b[0;32m<ipython-input-6-26bd5ab993a3>\u001b[0m in \u001b[0;36m<module>\u001b[0;34m\u001b[0m\n\u001b[1;32m     10\u001b[0m \u001b[0mcur\u001b[0m \u001b[0;34m=\u001b[0m \u001b[0mconn\u001b[0m\u001b[0;34m.\u001b[0m\u001b[0mcursor\u001b[0m\u001b[0;34m(\u001b[0m\u001b[0;34m)\u001b[0m\u001b[0;34m\u001b[0m\u001b[0;34m\u001b[0m\u001b[0m\n\u001b[1;32m     11\u001b[0m \u001b[0mrequete\u001b[0m \u001b[0;34m=\u001b[0m \u001b[0;34m\"insert into region(code_reg, nom) Values ('084', 'Rhône-Alpes');\"\u001b[0m\u001b[0;34m\u001b[0m\u001b[0;34m\u001b[0m\u001b[0m\n\u001b[0;32m---> 12\u001b[0;31m \u001b[0mcur\u001b[0m\u001b[0;34m.\u001b[0m\u001b[0mexecute\u001b[0m\u001b[0;34m(\u001b[0m\u001b[0mrequete\u001b[0m\u001b[0;34m)\u001b[0m\u001b[0;34m\u001b[0m\u001b[0;34m\u001b[0m\u001b[0m\n\u001b[0m\u001b[1;32m     13\u001b[0m \u001b[0;34m\u001b[0m\u001b[0m\n\u001b[1;32m     14\u001b[0m \u001b[0mrequete\u001b[0m \u001b[0;34m=\u001b[0m \u001b[0;34m\"Insert into departement (code_dep, nom, code_reg) Values ('38', 'Isère', '084');\"\u001b[0m\u001b[0;34m\u001b[0m\u001b[0;34m\u001b[0m\u001b[0m\n",
      "\u001b[0;31mUniqueViolation\u001b[0m: duplicate key value violates unique constraint \"region_pkey\"\nDETAIL:  Key (code_reg)=(084) already exists.\n"
     ]
    }
   ],
   "source": [
    "import psycopg2\n",
    "\n",
    "conn = psycopg2.connect(user = \"job\",\n",
    "                                  password = \"dashboard\",\n",
    "                                  host = \"127.0.0.1\",\n",
    "                                  port = \"5432\",\n",
    "                                  database = \"job_dashboard\")\n",
    "\n",
    "# Create a cursor. The cursor allows you to execute database queries. \n",
    "cur = conn.cursor()\n",
    "requete = \"insert into region(code_reg, nom) Values ('084', 'Rhône-Alpes');\"\n",
    "cur.execute(requete)\n",
    "\n",
    "requete = \"Insert into departement (code_dep, nom, code_reg) Values ('38', 'Isère', '084');\"\n",
    "cur.execute(requete)\n",
    "\n",
    "requete = \"Insert into ville (code_insee, nom, code_dep) Values ('38185', 'Grenoble', '38');\"\n",
    "cur.execute(requete)\n",
    "\n",
    "requete = \"insert into intitule(nom, alias) values('Ingénieur de Développement', '');\"\n",
    "cur.execute(requete)\n",
    "\n",
    "requete = \"Insert into offre(ref, titre, entreprise, ville, departement, region, date_publication, date_maj, exp_min, exp_max, salaire_min, salaire_max, type_contrat, intitule, diplome_min, diplome_max, site_origine, lien_site, corps) Values('A2', 'Ingénieur de Data', 'ST', '38185', '38', '084', '01/01/2019', '02/01/2019', 5, 10, 5000, 20000, 'CDD', 1, 'BAC+3', 'BAC+5', 'monster.fr', 'http://www.monster.fr', 'Ceci est mon ame');\"\n",
    "cur.execute(requete)\n",
    "\n",
    "\n",
    "\n",
    "conn.commit()"
   ]
  },
  {
   "cell_type": "code",
   "execution_count": null,
   "metadata": {},
   "outputs": [],
   "source": []
  },
  {
   "cell_type": "code",
   "execution_count": null,
   "metadata": {},
   "outputs": [],
   "source": []
  }
 ],
 "metadata": {
  "kernelspec": {
   "display_name": "Python 3",
   "language": "python",
   "name": "python3"
  },
  "language_info": {
   "codemirror_mode": {
    "name": "ipython",
    "version": 3
   },
   "file_extension": ".py",
   "mimetype": "text/x-python",
   "name": "python",
   "nbconvert_exporter": "python",
   "pygments_lexer": "ipython3",
   "version": "3.7.5"
  }
 },
 "nbformat": 4,
 "nbformat_minor": 4
}
