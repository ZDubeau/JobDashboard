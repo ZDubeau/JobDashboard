{
 "cells": [
  {
   "cell_type": "code",
   "execution_count": 1,
   "metadata": {},
   "outputs": [
    {
     "name": "stdout",
     "output_type": "stream",
     "text": [
      "Connecting to the PostgreSQL database...\n"
     ]
    }
   ],
   "source": [
    "import psycopg2\n",
    "import matplotlib.pyplot as plt\n",
    "import pylab as pl\n",
    "import numpy as np\n",
    "from matplotlib import colors\n",
    "from matplotlib.ticker import PercentFormatter\n",
    "\n",
    "\n",
    "\n",
    "def connect():\n",
    "    \"\"\" Connect to the PostgreSQL database server \"\"\"\n",
    "    conn = None\n",
    "    try:\n",
    "        # connect to the PostgreSQL server\n",
    "        print('Connecting to the PostgreSQL database...')\n",
    "        conn = psycopg2.connect(host = \"localhost\",\n",
    "                                dbname = \"job_dashboard\",\n",
    "                                user = \"job\",\n",
    "                                password = \"dashboard\",\n",
    "                                port = 5432)\n",
    "\n",
    "    except Exception as inst:\n",
    "            print(\"I am unable to connect to the database\")\n",
    "            print(inst)\n",
    "    \n",
    "    return conn\n",
    "\n",
    "\n",
    "commands = (\n",
    "    \"\"\"\n",
    "    CREATE TABLE IF NOT EXISTS offre_brute (\n",
    "        id SERIAL PRIMARY KEY,\n",
    "        ref VARCHAR(20),\n",
    "        titre VARCHAR(50),\n",
    "        entreprise VARCHAR(30),\n",
    "        ville VARCHAR(40),\n",
    "        departement VARCHAR(30),\n",
    "        region VARCHAR(30),\n",
    "        date_publication VARCHAR(30),\n",
    "        date_maj VARCHAR(30),\n",
    "        experience VARCHAR(50),\n",
    "        salaire VARCHAR(50),\n",
    "        type_contrat VARCHAR(20),\n",
    "        intitule VARCHAR(30),\n",
    "        diplome TEXT,\n",
    "        secteur TEXT,\n",
    "        site_origine VARCHAR(20),\n",
    "        lien_site TEXT,\n",
    "        corps TEXT\n",
    "    )\n",
    "    \"\"\"\n",
    "    ,\n",
    "    \"\"\"\n",
    "    CREATE TABLE IF NOT EXISTS intitule (\n",
    "        id SERIAL PRIMARY KEY,\n",
    "        nom VARCHAR(30),\n",
    "        alias VARCHAR(30)\n",
    "    )\n",
    "    \"\"\"\n",
    "    ,\n",
    "    \"\"\"\n",
    "    CREATE TABLE IF NOT EXISTS secteur (\n",
    "        id SERIAL PRIMARY KEY,\n",
    "        libelle VARCHAR(30)\n",
    "    )\n",
    "    \"\"\"\n",
    "    ,\n",
    "    \"\"\"\n",
    "    CREATE TABLE IF NOT EXISTS region (\n",
    "        code_reg VARCHAR(3) PRIMARY KEY,\n",
    "        nom VARCHAR(30)\n",
    "    )\n",
    "    \"\"\"\n",
    "    ,\n",
    "    \"\"\"\n",
    "    CREATE TABLE IF NOT EXISTS departement (\n",
    "        code_dep VARCHAR(3) PRIMARY KEY,\n",
    "        nom VARCHAR(30),\n",
    "        code_reg VARCHAR(3) REFERENCES region (code_reg)\n",
    "    )\n",
    "    \"\"\"\n",
    "    ,\n",
    "    \"\"\"\n",
    "    CREATE TABLE IF NOT EXISTS ville (\n",
    "        code_insee VARCHAR(5) PRIMARY KEY,\n",
    "        nom VARCHAR(40),\n",
    "        code_dep VARCHAR(3) REFERENCES departement (code_dep)\n",
    "    )\n",
    "    \"\"\"\n",
    "    ,\n",
    "    \"\"\"\n",
    "    CREATE TABLE IF NOT EXISTS offre (\n",
    "        id SERIAL PRIMARY KEY,\n",
    "        ref VARCHAR(20),\n",
    "        titre VARCHAR(50),\n",
    "        entreprise VARCHAR(30),\n",
    "        ville VARCHAR(5) REFERENCES ville (code_insee),\n",
    "        departement VARCHAR(3) REFERENCES departement (code_dep),\n",
    "        region VARCHAR(3) REFERENCES region (code_reg),\n",
    "        date_publication DATE,\n",
    "        date_maj DATE,\n",
    "        exp_min INTEGER,\n",
    "        exp_max INTEGER,\n",
    "        salaire_min INTEGER,\n",
    "        salaire_max INTEGER,\n",
    "        type_contrat VARCHAR(20),\n",
    "        intitule INTEGER REFERENCES intitule (id),\n",
    "        diplome_min VARCHAR(30),\n",
    "        diplome_max VARCHAR(30),\n",
    "        site_origine VARCHAR(20),\n",
    "        lien_site TEXT,\n",
    "        corps TEXT\n",
    "    )\n",
    "    \"\"\"\n",
    "    ,\n",
    "    \"\"\"\n",
    "    CREATE TABLE IF NOT EXISTS offre_secteur (\n",
    "        id_secteur INTEGER REFERENCES secteur (id),\n",
    "        id_offre INTEGER REFERENCES offre (id),\n",
    "        CONSTRAINT PK_of_sec PRIMARY KEY (id_secteur, id_offre)\n",
    "    )\n",
    "    \"\"\"\n",
    ")\n",
    "\n",
    "\n",
    "def query(conn,requete):\n",
    "    \"\"\" Curseur \"\"\"\n",
    "    cur = conn.cursor()\n",
    "    cur.execute(requete)\n",
    "\n",
    "\n",
    "    \n",
    "with connect() as conn:\n",
    "    for command in commands:\n",
    "        query(conn,command)\n",
    "\n",
    "        conn.commit()\n"
   ]
  },
  {
   "cell_type": "code",
   "execution_count": 3,
   "metadata": {
    "scrolled": true
   },
   "outputs": [],
   "source": [
    "Requete = \"Insert into offre(ref, titre, entreprise, ville, departement, region, date_publication, date_maj, exp_min, exp_max, salaire_min, salaire_max, type_contrat, intitule, diplome_min, diplome_max, site_origine, lien_site, corps) Values('A4', 'Ingénieur de Données', 'Alpes Cpy', '38185', '38', '084', '02/01/2019', '03/01/2019', 5, 10, 5000, 20000, 'CDD', 1, 'BAC+3', 'BAC+5', 'monster.fr', 'http://www.chercherduboulot.fr', 'Faut pas toucher');\"\n",
    "cur.execute(Requete)\n",
    "\n",
    "Requete = \"Insert into offre(ref, titre, entreprise, ville, departement, region, date_publication, date_maj, exp_min, exp_max, salaire_min, salaire_max, type_contrat, intitule, diplome_min, diplome_max, site_origine, lien_site, corps) Values('A5', 'Ingénieur de Data', 'Grenoble Société', '38185', '38', '084', '02/01/2019', '03/01/2019', 5, 10, 5000, 20000, 'CDD', 1, 'BAC+3', 'BAC+5', 'monster.fr', 'http://www.chercherduboulot.fr', 'Faut pas toucher');\"\n",
    "cur.execute(Requete)\n",
    "\n",
    "\n",
    "\n",
    "\n"
   ]
  },
  {
   "cell_type": "code",
   "execution_count": 4,
   "metadata": {},
   "outputs": [
    {
     "name": "stderr",
     "output_type": "stream",
     "text": [
      "No handles with labels found to put in legend.\n"
     ]
    },
    {
     "name": "stdout",
     "output_type": "stream",
     "text": [
      "Ingénieur de Data\n",
      "Ingénieur de Données\n",
      "Ingénieur de Data\n"
     ]
    },
    {
     "data": {
      "text/plain": [
       "<matplotlib.legend.Legend at 0x7f70befc9410>"
      ]
     },
     "execution_count": 4,
     "metadata": {},
     "output_type": "execute_result"
    },
    {
     "data": {
      "image/png": "[encoded data removed]",
      "text/plain": [
       "<Figure size 432x288 with 1 Axes>"
      ]
     },
     "metadata": {
      "needs_background": "light"
     },
     "output_type": "display_data"
    }
   ],
   "source": [
    "Requete = \"Select titre From offre;\"\n",
    "\n",
    "cur = conn.cursor()\n",
    "cur.execute(Requete)\n",
    "rows = cur.fetchall()\n",
    "couleurs = ['red']\n",
    "\n",
    "valeur = []\n",
    "labels = []\n",
    "for row in rows:\n",
    "    print(row[0])\n",
    "    labels.append(row[0])\n",
    "\n",
    "N, bins, patches = plt.hist(labels, range = (0, 5),\n",
    "            edgecolor = 'red')\n",
    "\n",
    "nbins = 20\n",
    "colors = plt.get_cmap('viridis')(np.linspace(0, 1, nbins))\n",
    "#n, bins, patches = plt.hist(labels, bins=nbins)\n",
    "\n",
    "# apply the same color for each class to match the map\n",
    "for patch, color in zip(patches, colors):\n",
    "    patch.set_facecolor(color)\n",
    "    \n",
    "    \n",
    "plt.xlabel('valeurs')\n",
    "plt.ylabel('nombres')\n",
    "plt.title('Exemple d\\' histogramme simple')\n",
    "plt.xticks(rotation='vertical')\n",
    "plt.yticks(rotation='horizontal')\n",
    "\n",
    "\n",
    "plt.legend()\n"
   ]
  },
  {
   "cell_type": "code",
   "execution_count": 54,
   "metadata": {},
   "outputs": [
    {
     "data": {
      "image/png": "[encoded data removed]",
      "text/plain": [
       "<Figure size 432x288 with 1 Axes>"
      ]
     },
     "metadata": {
      "needs_background": "light"
     },
     "output_type": "display_data"
    }
   ],
   "source": [
    "commute_times = [23, 25, 40, 35, 36, 47, 33, 28, 48, 34,\n",
    "                 20, 37, 36, 23, 33, 36, 20, 27, 50, 34,\n",
    "                 47, 18, 28, 52, 21, 44, 34, 13, 40, 49]\n",
    "\n",
    "plt.hist(commute_times, 5)\n",
    "\n",
    "plt.show()\n"
   ]
  },
  {
   "cell_type": "code",
   "execution_count": null,
   "metadata": {},
   "outputs": [],
   "source": []
  }
 ],
 "metadata": {
  "kernelspec": {
   "display_name": "Python 3",
   "language": "python",
   "name": "python3"
  },
  "language_info": {
   "codemirror_mode": {
    "name": "ipython",
    "version": 3
   },
   "file_extension": ".py",
   "mimetype": "text/x-python",
   "name": "python",
   "nbconvert_exporter": "python",
   "pygments_lexer": "ipython3",
   "version": "3.7.5"
  }
 },
 "nbformat": 4,
 "nbformat_minor": 4
}
