{
 "cells": [
  {
   "cell_type": "code",
   "execution_count": null,
   "metadata": {},
   "outputs": [],
   "source": [
    "from urllib.request import urlopen\n",
    "from bs4 import BeautifulSoup\n",
    "import pandas as pd\n",
    "from pandas import DataFrame\n",
    "from pandas import isnull\n",
    "import numpy as np\n",
    "from requests_html import HTMLSession\n",
    "from collections import defaultdict"
   ]
  },
  {
   "cell_type": "raw",
   "metadata": {},
   "source": [
    "\n",
    "columns=[\"Titre\", \"Date_publication\", \"intitule\", \"ville\",\n",
    "        \"code_dep\", \"Type_contrat\", \"Exp\", \"Diplome\", \n",
    "        \"Entreprise\", \"Salaire\", \"corps\", \"Lien\"]\n",
    "        "
   ]
  },
  {
   "cell_type": "code",
   "execution_count": null,
   "metadata": {},
   "outputs": [],
   "source": [
    "def get_from_meteojob(url):\n",
    "    session = HTMLSession()\n",
    "\n",
    "    headers = {\n",
    "        \"Host\": \"www.meteojob.com\",\n",
    "        \"User-Agent\": \"Mozilla/5.0 (X11; Ubuntu; Linux x86_64; rv:72.0) Gecko/20100101 Firefox/72.0\",\n",
    "        \"Accept\": \"text/html,application/xhtml+xml,application/xml;q=0.9,image/webp,*/*;q=0.8\",\n",
    "        \"Accept-Language\": \"en-GB,en;q=0.5\",\n",
    "        \"Accept-Encoding\": \"gzip, deflate, br\",\n",
    "        \"Connection\": \"keep-alive\",\n",
    "        \"Cookie\": \"ABTasty=uid%3D20012809565792105%26fst%3D1580201817549%26pst%3D1581517299643%26cst%3D1581598588773%26ns%3D3%26pvt%3D11%26pvis%3D1%26th%3D; _fbp=fb.1.1580201818340.973396398; _ga=GA1.2.1214576890.1580201818; cikneeto_uuid=id:811e2d38-8a86-4a72-9b53-d92cb2fb87a7; cto_bundle=Dye-hl9qTnpXZEpDNkh1dURJTHdLdE1zQ1c1NlNJaXJJMEJzb2pmY01yZWdXUyUyRkpDWVB2dmEyR0daSXRsWU9EdElsJTJGJTJCUTElMkZTQkZqOTNBSlVnVzRFMHBycVhyUXhWZnZUdDNueVJ5UjZ4Zk41eXBDTWRvSHZsVlM3bENzQUslMkZ4U3hsako5ajQwdk0xSWpaUm9jJTJCRUFMY1dqdFElM0QlM0Q; __gads=ID=f83e1fa8b3f0b798:T=1580201871:S=ALNI_MZiG2mYjCj0SCw_MdkWUT9HiMCATw; _gid=GA1.2.872070098.1581517301; _tac=false~self|not-available; _ta=fr~4~8d7faf049ef65861988a9f7855c1ca28; exit_modal_closed=true; cikneeto=date:1581598601434; autocomplete_history_job=[{%22type%22:%22JOB%22%2C%22id%22:11540%2C%22label%22:%22D%C3%A9veloppeur%20Big%20Data%20(H/F)%22%2C%22count%22:990%2C%22ambiguous%22:false}]; web_user_id=41a78692-e95a-4835-b086-610970bc4126; ABTastySession=sen%3D3__referrer%3D__landingPage%3Dhttps%3A//www.meteojob.com/candidat/offres/offre-d-emploi-data-scientist-h-f-brest-bretagne-cdi-12007746%3Fscroll%3DaW5kZXg9MTUmdG90YWw9NTkmd2hhdD1EJUMzJUE5dmVsb3BwZXVyK0JpZytEYXRhKyhIJTJGRikmcGFnZT0y; _tty=2083560087699625985; _tas=y8pte1n6i5i; _gat=1; _gat_raw=1\",\n",
    "        \"Upgrade-Insecure-Requests\": \"1\",\n",
    "        \"Cache-Control\": \"max-age=0\"\n",
    "    }\n",
    "#    url = \"https://www.meteojob.com/candidat/offres/offre-d-emploi-data-scientist-h-f-paris-ile-de-france-cdi-12341413?what=data\"\n",
    "    meteo = session.get(url,headers=headers)\n",
    "\n",
    "    contenu = meteo.html.find(\".mj-offer-details\",first=True)\n",
    "    annonce ={}\n",
    "    \n",
    "    annonce[\"Titre\"] = \"NaN\"\n",
    "    annonce[\"Date_publication\"] = \"NaN\"\n",
    "    annonce[\"intitule\"] = \"NaN\"\n",
    "    annonce[\"ville\"] = \"NaN\"\n",
    "    annonce[\"code_dep\"] = \"NaN\"\n",
    "    annonce[\"Type_contrat\"] = \"NaN\"\n",
    "    annonce[\"Exp\"] = \"NaN\"\n",
    "    annonce[\"Diplome\"] = \"NaN\"\n",
    "    annonce[\"Entreprise\"] = \"NaN\"\n",
    "    annonce[\"Salaire\"] = \"NaN\"\n",
    "    annonce[\"corps\"] = \"NaN\"\n",
    "    annonce[\"Lien\"] = \"NaN\"\n",
    "    \n",
    "    \n",
    "    annonce[\"Titre\"] = contenu.find(\"h1\",first=True).text\n",
    "    annonce[\"Date_publication\"] = contenu.find(\".publication-date\",first=True).text\n",
    "\n",
    "    items = contenu.find(\".matching-criterion-wrapper\")\n",
    "    criteres = []\n",
    "    for bal in items:\n",
    "        criteres.append(bal.text)\n",
    "\n",
    "\n",
    "    for crit in criteres:\n",
    "        if \"(H/F)\" in crit:\n",
    "            annonce[\"intitule\"] = crit\n",
    "        elif crit.endswith(\")\"):\n",
    "            lieu = crit.split(\" \")\n",
    "            annonce[\"ville\"] = lieu[0]\n",
    "            annonce[\"code_dep\"] = lieu[1][1:-1]\n",
    "        elif crit in (\"CDI\",\"CDI-C\",\"CDD\",\"Interim\",\"Stage\"):\n",
    "            annonce[\"Type_contrat\"] = crit\n",
    "        elif crit.startswith(\"Expérience\"):\n",
    "            annonce[\"Exp\"] = crit.split(\" : \")[1]\n",
    "        elif crit.startswith(\"Niveau\"):\n",
    "            annonce[\"Diplome\"] = crit.split(\" : \")[1]\n",
    "\n",
    "\n",
    "    sections = contenu.find(\"section\")\n",
    "    corps = \"\"\n",
    "\n",
    "    for sect in sections:\n",
    "        if sect.attrs.get(\"class\") and \"offer-apply-form\" not in sect.attrs.get(\"class\"):\n",
    "            corps += sect.text + \"\\n\"\n",
    "        if sect.attrs.get(\"class\") and \"company-description\" in sect.attrs.get(\"class\"):\n",
    "            annonce[\"Entreprise\"] = sect.find(\"h3 span\",first=True).text\n",
    "        elif not sect.attrs.get(\"class\"):\n",
    "            if sect.find(\"h3\") and sect.find(\"h3\",first=True).text == \"Salaire et avantages\":\n",
    "                annonce[\"Salaire\"] = sect.find(\"div\",first=True).text\n",
    "\n",
    "    annonce[\"corps\"] = corps\n",
    "\n",
    "    annonce[\"Lien\"] = url\n",
    "            \n",
    "    return annonce\n",
    "\n",
    "\n",
    "if __name__ == \"__main__\":\n",
    "    adresse = input(\"Entrez une URL : \")\n",
    "    annonce = get_from_meteojob(adresse)\n",
    "    print(annonce)"
   ]
  },
  {
   "cell_type": "code",
   "execution_count": null,
   "metadata": {},
   "outputs": [],
   "source": [
    "df = pd.DataFrame([annonce])\n",
    "df"
   ]
  },
  {
   "cell_type": "code",
   "execution_count": null,
   "metadata": {},
   "outputs": [],
   "source": [
    "print('Date_publication :', df['Date_publication'][0], '\\n')\n",
    "print('intitule :', df['intitule'][0], '\\n')\n",
    "print('Exp :', df['Exp'][0], '\\n')\n",
    "print('Diplome :', df['Diplome'][0])"
   ]
  },
  {
   "cell_type": "code",
   "execution_count": null,
   "metadata": {},
   "outputs": [],
   "source": [
    "# Copier la valeur de colonne \"Titre\" dans la colonne \"intitule\" si elle est vide.\n",
    "\n",
    "def intitule_fill(df):\n",
    "    \n",
    "    df['intitule'] = df['intitule'].fillna(df['Titre'])\n",
    "    return df\n",
    "\n",
    "df = intitule_fill(df)\n",
    "df"
   ]
  },
  {
   "cell_type": "code",
   "execution_count": null,
   "metadata": {},
   "outputs": [],
   "source": [
    "# Supprimer \"(H/F)\" \n",
    "\n",
    "def intitule_clean(intitule):\n",
    "    \n",
    "    intitule = intitule.replace(\" (H/F) \",\"\")\n",
    "    intitule = intitule.replace(\" (H/F)\",\"\")\n",
    "    intitule = intitule.replace(\"(H/F)\",\"\")\n",
    "    return intitule.strip()\n",
    "\n",
    "df['intitule'][0] = intitule_clean(df['intitule'][0])\n",
    "df\n"
   ]
  },
  {
   "cell_type": "code",
   "execution_count": null,
   "metadata": {},
   "outputs": [],
   "source": [
    "def intitule_seperate(df):\n",
    "    \n",
    "    df = df.set_index([\"Titre\", \"Date_publication\", \"ville\",\n",
    "                       \"code_dep\", \"Type_contrat\", \"Exp\",\n",
    "                       \"Diplome\", \"Entreprise\", \"Salaire\",\n",
    "                       \"corps\", \"Lien\"]).apply(lambda x: x.str.split(',').explode()).reset_index()\n",
    "    return df\n",
    "\n",
    "df = intitule_seperate(df)\n",
    "df"
   ]
  },
  {
   "cell_type": "code",
   "execution_count": null,
   "metadata": {},
   "outputs": [],
   "source": []
  }
 ],
 "metadata": {
  "kernelspec": {
   "display_name": "Python 3",
   "language": "python",
   "name": "python3"
  },
  "language_info": {
   "codemirror_mode": {
    "name": "ipython",
    "version": 3
   },
   "file_extension": ".py",
   "mimetype": "text/x-python",
   "name": "python",
   "nbconvert_exporter": "python",
   "pygments_lexer": "ipython3",
   "version": "3.7.5"
  }
 },
 "nbformat": 4,
 "nbformat_minor": 4
}
